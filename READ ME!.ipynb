{
 "cells": [
  {
   "cell_type": "markdown",
   "id": "62b127f9",
   "metadata": {},
   "source": [
    "- Run 'Kate Fong -  Jupyter Notebook' first : This has all the webscraping, data cleaning, graphs, and regression analysis\n",
    " - Be sure to change where the data and the graphs get saved \n",
    "- Run 'Fong-R Notebook' next: This has the regressions"
   ]
  },
  {
   "cell_type": "markdown",
   "id": "1de9be9d",
   "metadata": {},
   "source": [
    "### Variables:\n"
   ]
  },
  {
   "cell_type": "markdown",
   "id": "ae75707e",
   "metadata": {},
   "source": [
    "- rtrating: rotten tomato movie rating out of 100\n",
    "- numofreviews: the number of reviews the movie received from certified rotten tomato critics\n",
    "- link: the link to the movie's individual rotten tomato page\n",
    "- movietitle: the title of the movie\n",
    "- year: the year the movie was released\n",
    "- AspectRatio : how the image appears on screen based on how it was shot\n",
    "- BoxOffice(GrossUSA) : revenue generated from ticket sales in the USA in US dollars\n",
    "- Director : director of the film\n",
    "- Distributor : the entity in charge of handling the release of the film (marketing, which theaters, etc)\n",
    "- Genre : the category type of the film\n",
    "- OriginalLanguage : the language that the film was originally released in\n",
    "- Producer : producers of the film\n",
    "- Rating : the rating to determine which audiences the film is suitable for\n",
    "- ReleaseDate(Streaming) : the date the movie was released on a streaming platform\n",
    "- Runtime : the length of the movie\n",
    "- SoundMix : the quality of sound\n",
    "- Writer : the writer of the movie\n",
    "- MovieRuntime: the length of the movie in MINUTES\n",
    "- ReleaseDate(Theater) : the date the movie was released in theaters\n",
    "- ReleaseType: Wide/Limited ; Wide means that the movie was released in over 600 theaters. Limited means the movie was released in under 600 theaters\n",
    "- streamingornot: 1/0 ; 1 is the movie had a streaming release date; 0 if the movie did not have a streaming release date\n",
    "- releasetype: 1/0 ; 1 if it was a wide release; 0 if the movie was a limited release"
   ]
  }
 ],
 "metadata": {
  "kernelspec": {
   "display_name": "Python 3",
   "language": "python",
   "name": "python3"
  },
  "language_info": {
   "codemirror_mode": {
    "name": "ipython",
    "version": 3
   },
   "file_extension": ".py",
   "mimetype": "text/x-python",
   "name": "python",
   "nbconvert_exporter": "python",
   "pygments_lexer": "ipython3",
   "version": "3.8.8"
  }
 },
 "nbformat": 4,
 "nbformat_minor": 5
}
